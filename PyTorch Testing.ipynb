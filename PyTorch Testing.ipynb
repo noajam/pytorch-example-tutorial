{
 "cells": [
  {
   "cell_type": "code",
   "execution_count": 1,
   "id": "1c6b296b",
   "metadata": {},
   "outputs": [
    {
     "name": "stdout",
     "output_type": "stream",
     "text": [
      "Collecting package metadata (current_repodata.json): done\n",
      "Solving environment: | ^C\n",
      "failed with initial frozen solve. Retrying with flexible solve.\n",
      "\n",
      "CondaError: KeyboardInterrupt\n",
      "\n"
     ]
    }
   ],
   "source": [
    "# conda\n",
    "# pip\n",
    "!conda install pytorch torchvision torchaudio -c pytorch"
   ]
  },
  {
   "cell_type": "code",
   "execution_count": 3,
   "id": "7717301d",
   "metadata": {},
   "outputs": [
    {
     "name": "stdout",
     "output_type": "stream",
     "text": [
      "Collecting package metadata (current_repodata.json): done\n",
      "Solving environment: | ^C\n",
      "failed with initial frozen solve. Retrying with flexible solve.\n",
      "\n",
      "CondaError: KeyboardInterrupt\n",
      "\n"
     ]
    }
   ],
   "source": [
    "!conda install matplotlib"
   ]
  },
  {
   "cell_type": "code",
   "execution_count": 6,
   "id": "71353a73",
   "metadata": {},
   "outputs": [],
   "source": [
    "import torch"
   ]
  },
  {
   "cell_type": "code",
   "execution_count": null,
   "id": "21fc34c2",
   "metadata": {},
   "outputs": [],
   "source": [
    "# Math description of tensors and matrices\n",
    "# Tensor: more than 2 dimensions\n",
    "# Matrix: 2 dimensions\n",
    "\n",
    "# Pytorch description\n",
    "# Tensor: is a data object that holds numbers"
   ]
  },
  {
   "cell_type": "code",
   "execution_count": 29,
   "id": "7f13b7d6",
   "metadata": {},
   "outputs": [],
   "source": [
    "x = torch.randn(5, 5)"
   ]
  },
  {
   "cell_type": "code",
   "execution_count": 30,
   "id": "1f623a49",
   "metadata": {},
   "outputs": [
    {
     "data": {
      "text/plain": [
       "tensor([[-1.3320,  0.2861, -0.0522,  0.3986,  1.0490],\n",
       "        [ 0.1966,  1.1549,  0.1714,  0.3404, -0.5106],\n",
       "        [-0.0229,  0.3813, -0.4345,  0.5519, -0.0225],\n",
       "        [ 0.2048,  0.2417, -0.9606, -0.6502,  0.0591],\n",
       "        [-0.2170,  0.5070, -0.3575, -1.2855,  0.4434]])"
      ]
     },
     "execution_count": 30,
     "metadata": {},
     "output_type": "execute_result"
    }
   ],
   "source": [
    "x"
   ]
  },
  {
   "cell_type": "code",
   "execution_count": 31,
   "id": "a67ff447",
   "metadata": {},
   "outputs": [],
   "source": [
    "x = x + 1"
   ]
  },
  {
   "cell_type": "code",
   "execution_count": 32,
   "id": "11ef16a0",
   "metadata": {},
   "outputs": [
    {
     "data": {
      "text/plain": [
       "tensor([[-0.3320,  1.2861,  0.9478,  1.3986,  2.0490],\n",
       "        [ 1.1966,  2.1549,  1.1714,  1.3404,  0.4894],\n",
       "        [ 0.9771,  1.3813,  0.5655,  1.5519,  0.9775],\n",
       "        [ 1.2048,  1.2417,  0.0394,  0.3498,  1.0591],\n",
       "        [ 0.7830,  1.5070,  0.6425, -0.2855,  1.4434]])"
      ]
     },
     "execution_count": 32,
     "metadata": {},
     "output_type": "execute_result"
    }
   ],
   "source": [
    "x"
   ]
  },
  {
   "cell_type": "code",
   "execution_count": 33,
   "id": "64283aca",
   "metadata": {},
   "outputs": [],
   "source": [
    "x = x * 3"
   ]
  },
  {
   "cell_type": "code",
   "execution_count": 34,
   "id": "ef9e234f",
   "metadata": {},
   "outputs": [
    {
     "data": {
      "text/plain": [
       "tensor([[-0.9960,  3.8584,  2.8435,  4.1959,  6.1471],\n",
       "        [ 3.5897,  6.4647,  3.5141,  4.0213,  1.4681],\n",
       "        [ 2.9312,  4.1440,  1.6966,  4.6557,  2.9324],\n",
       "        [ 3.6144,  3.7252,  0.1182,  1.0493,  3.1773],\n",
       "        [ 2.3490,  4.5211,  1.9276, -0.8565,  4.3302]])"
      ]
     },
     "execution_count": 34,
     "metadata": {},
     "output_type": "execute_result"
    }
   ],
   "source": [
    "x"
   ]
  },
  {
   "cell_type": "markdown",
   "id": "3289d952",
   "metadata": {},
   "source": [
    "# Image classification\n",
    "# Image generation/synthesis\n",
    "# Object Detection\n",
    "# Image segmentation"
   ]
  },
  {
   "cell_type": "markdown",
   "id": "c84d7d30",
   "metadata": {},
   "source": [
    "# Natural Language Processing\n",
    "\n",
    "# Text Classification\n",
    "\n",
    "# Text Generation"
   ]
  },
  {
   "cell_type": "markdown",
   "id": "6eb213c4",
   "metadata": {},
   "source": [
    "# Regression"
   ]
  },
  {
   "cell_type": "code",
   "execution_count": null,
   "id": "d4254d96",
   "metadata": {},
   "outputs": [],
   "source": [
    "# 3Blue1Brown - 5 videos on neural networks"
   ]
  },
  {
   "cell_type": "code",
   "execution_count": null,
   "id": "2b8d15d6",
   "metadata": {},
   "outputs": [],
   "source": [
    "# Dataset Class\n",
    "# Data Loader (data, label)\n",
    "# Model (neural network)\n",
    "# Main Training Loop\n",
    "# Visualization/Statistics of the Performance"
   ]
  },
  {
   "cell_type": "code",
   "execution_count": 14,
   "id": "e6ed43be",
   "metadata": {},
   "outputs": [],
   "source": [
    "import torch\n",
    "import torch.nn as nn\n",
    "import torch.optim as optim"
   ]
  },
  {
   "cell_type": "code",
   "execution_count": 12,
   "id": "16402c5b",
   "metadata": {},
   "outputs": [],
   "source": [
    "class ExampleNetwork(nn.Module):\n",
    "    def __init__(self):\n",
    "        super(ExampleNetwork, self).__init__()\n",
    "        \n",
    "        self.layer1 = nn.Linear(5, 10)\n",
    "        self.layer2 = nn.Linear(10, 20)\n",
    "        self.layer3 = nn.Linear(20, 10)\n",
    "        self.layer4 = nn.Linear(10, 5)\n",
    "        self.layer5 = nn.Linear(5, 1)\n",
    "        \n",
    "        self.act = nn.ReLU()\n",
    "    \n",
    "    def forward(self, x):\n",
    "        x = self.act(self.layer1(x))\n",
    "        x = self.act(self.layer2(x))\n",
    "        x = self.act(self.layer3(x))\n",
    "        x = self.act(self.layer4(x))\n",
    "        x = self.act(self.layer5(x))\n",
    "        \n",
    "        return x"
   ]
  },
  {
   "cell_type": "code",
   "execution_count": 3,
   "id": "afa0c352",
   "metadata": {},
   "outputs": [],
   "source": [
    "model = ExampleNetwork()"
   ]
  },
  {
   "cell_type": "code",
   "execution_count": 20,
   "id": "06757434",
   "metadata": {},
   "outputs": [
    {
     "data": {
      "text/plain": [
       "torch.Size([5])"
      ]
     },
     "execution_count": 20,
     "metadata": {},
     "output_type": "execute_result"
    }
   ],
   "source": [
    "x.shape"
   ]
  },
  {
   "cell_type": "code",
   "execution_count": 30,
   "id": "be9ff594",
   "metadata": {},
   "outputs": [
    {
     "data": {
      "text/plain": [
       "tensor([-0.0035,  0.1664,  0.1644, -0.0986,  0.0210], grad_fn=<AddBackward0>)"
      ]
     },
     "execution_count": 30,
     "metadata": {},
     "output_type": "execute_result"
    }
   ],
   "source": [
    "model(x)"
   ]
  },
  {
   "cell_type": "code",
   "execution_count": 35,
   "id": "6ac79845",
   "metadata": {},
   "outputs": [],
   "source": [
    "device = ('cuda' if torch.cuda.is_available() else 'cpu')"
   ]
  },
  {
   "cell_type": "code",
   "execution_count": 36,
   "id": "510deacc",
   "metadata": {},
   "outputs": [],
   "source": [
    "x = torch.randn(5, 5)"
   ]
  },
  {
   "cell_type": "code",
   "execution_count": null,
   "id": "0a1e5526",
   "metadata": {},
   "outputs": [],
   "source": [
    "x = x.to(device)"
   ]
  },
  {
   "cell_type": "code",
   "execution_count": 34,
   "id": "f3293c25",
   "metadata": {},
   "outputs": [],
   "source": [
    "# hyperparameters\n",
    "num_epochs = 100\n",
    "batch_size = 10\n",
    "\n",
    "model = ExampleNetwork().to(device)\n",
    "\n",
    "loss_fx = nn.MSELoss().to(device)\n",
    "optimizer = optim.Adam(model.parameters())\n",
    "\n",
    "for epoch in range(num_epochs):\n",
    "    for batch in dataloader:\n",
    "        features, labels = batch.to(device)\n",
    "        \n",
    "        output = model(features)\n",
    "        loss = loss_fx(output, labels)\n",
    "        \n",
    "        optimizer.zero_grad()\n",
    "        loss.backward()\n",
    "        optimizer.step()\n",
    "        \n",
    "    # Train\n",
    "    pass\n"
   ]
  },
  {
   "cell_type": "code",
   "execution_count": 16,
   "id": "642f8d78",
   "metadata": {},
   "outputs": [
    {
     "name": "stdout",
     "output_type": "stream",
     "text": [
      "tensor(0.8998, grad_fn=<MseLossBackward>)\n"
     ]
    }
   ],
   "source": [
    "output = model(data)\n",
    "loss = loss_fx(output, labels)\n",
    "print(loss)"
   ]
  },
  {
   "cell_type": "code",
   "execution_count": 20,
   "id": "8373afbb",
   "metadata": {},
   "outputs": [],
   "source": [
    "from torch.utils.data import Dataset, DataLoader"
   ]
  },
  {
   "cell_type": "code",
   "execution_count": 29,
   "id": "1b35d88a",
   "metadata": {},
   "outputs": [],
   "source": [
    "class ExampleDataset(Dataset):\n",
    "    def __init__(self, num_features=5):\n",
    "        self.data = torch.randn(1000, num_features)\n",
    "        self.labels = torch.randn(1000, 1)\n",
    "    \n",
    "    def __len__(self):\n",
    "        return len(self.data)\n",
    "    \n",
    "    def __getitem__(self, index):\n",
    "        return self.data[index], self.labels[index]"
   ]
  },
  {
   "cell_type": "code",
   "execution_count": 30,
   "id": "a3c9fc4c",
   "metadata": {},
   "outputs": [],
   "source": [
    "dataset = ExampleDataset()"
   ]
  },
  {
   "cell_type": "code",
   "execution_count": 31,
   "id": "e9ace8d6",
   "metadata": {},
   "outputs": [
    {
     "data": {
      "text/plain": [
       "1000"
      ]
     },
     "execution_count": 31,
     "metadata": {},
     "output_type": "execute_result"
    }
   ],
   "source": [
    "len(dataset)"
   ]
  },
  {
   "cell_type": "code",
   "execution_count": 32,
   "id": "a49cd2cf",
   "metadata": {},
   "outputs": [],
   "source": [
    "dataloader = DataLoader(dataset, batch_size=10, shuffle=True, num_workers=0)"
   ]
  },
  {
   "cell_type": "code",
   "execution_count": 33,
   "id": "1e280f72",
   "metadata": {},
   "outputs": [
    {
     "data": {
      "text/plain": [
       "[tensor([[-0.0593,  0.2754,  1.9307, -1.6774, -1.7609],\n",
       "         [ 1.3319, -0.6838,  1.0871, -0.8224,  0.2338],\n",
       "         [-1.6990, -0.3557,  0.9651, -0.1530, -1.9045],\n",
       "         [-0.3813, -1.0759, -2.1031, -0.8404,  0.6683],\n",
       "         [ 1.6061, -0.5187, -2.9920,  0.5348, -0.1227],\n",
       "         [ 1.0023,  0.1456, -0.0541,  1.3076, -0.3491],\n",
       "         [-0.6739, -0.2806, -0.3158, -0.4833,  0.0086],\n",
       "         [ 0.8036,  2.1257,  1.1129, -0.2406,  0.0373],\n",
       "         [-0.9306, -0.7897,  0.3731,  0.1188,  0.7869],\n",
       "         [-0.9581, -0.9095,  2.1855,  0.2636, -0.7450]]),\n",
       " tensor([[ 1.6488],\n",
       "         [-1.7388],\n",
       "         [ 0.8124],\n",
       "         [ 1.8182],\n",
       "         [ 1.5306],\n",
       "         [-0.1193],\n",
       "         [-1.6087],\n",
       "         [-0.0130],\n",
       "         [ 0.3827],\n",
       "         [ 0.9617]])]"
      ]
     },
     "execution_count": 33,
     "metadata": {},
     "output_type": "execute_result"
    }
   ],
   "source": [
    "next(iter(dataloader))"
   ]
  },
  {
   "cell_type": "code",
   "execution_count": null,
   "id": "2b788351",
   "metadata": {},
   "outputs": [],
   "source": []
  }
 ],
 "metadata": {
  "kernelspec": {
   "display_name": "Python 3",
   "language": "python",
   "name": "python3"
  },
  "language_info": {
   "codemirror_mode": {
    "name": "ipython",
    "version": 3
   },
   "file_extension": ".py",
   "mimetype": "text/x-python",
   "name": "python",
   "nbconvert_exporter": "python",
   "pygments_lexer": "ipython3",
   "version": "3.8.5"
  }
 },
 "nbformat": 4,
 "nbformat_minor": 5
}
